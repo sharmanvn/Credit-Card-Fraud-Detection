{
 "cells": [
  {
   "cell_type": "code",
   "execution_count": 1,
   "id": "90d1130f",
   "metadata": {},
   "outputs": [],
   "source": [
    "import numpy as np\n",
    "import pandas as pd\n",
    "import matplotlib.pyplot as plt\n",
    "import seaborn as sns\n",
    "LABELS = [\"Non_Fraudulent\", \"Fraudulent\"]\n",
    "     \n",
    "import warnings\n",
    "warnings.filterwarnings('ignore')\n",
    "from sklearn.preprocessing import StandardScaler\n",
    "from sklearn.linear_model import LogisticRegression\n",
    "from sklearn.metrics import accuracy_score, confusion_matrix, classification_report \n",
    "from sklearn.ensemble import RandomForestClassifier, GradientBoostingClassifier"
   ]
  },
  {
   "cell_type": "code",
   "execution_count": 2,
   "id": "18ee292b",
   "metadata": {},
   "outputs": [
    {
     "data": {
      "text/html": [
       "<div>\n",
       "<style scoped>\n",
       "    .dataframe tbody tr th:only-of-type {\n",
       "        vertical-align: middle;\n",
       "    }\n",
       "\n",
       "    .dataframe tbody tr th {\n",
       "        vertical-align: top;\n",
       "    }\n",
       "\n",
       "    .dataframe thead th {\n",
       "        text-align: right;\n",
       "    }\n",
       "</style>\n",
       "<table border=\"1\" class=\"dataframe\">\n",
       "  <thead>\n",
       "    <tr style=\"text-align: right;\">\n",
       "      <th></th>\n",
       "      <th>Time</th>\n",
       "      <th>V1</th>\n",
       "      <th>V2</th>\n",
       "      <th>V3</th>\n",
       "      <th>V4</th>\n",
       "      <th>V5</th>\n",
       "      <th>V6</th>\n",
       "      <th>V7</th>\n",
       "      <th>V8</th>\n",
       "      <th>V9</th>\n",
       "      <th>...</th>\n",
       "      <th>V21</th>\n",
       "      <th>V22</th>\n",
       "      <th>V23</th>\n",
       "      <th>V24</th>\n",
       "      <th>V25</th>\n",
       "      <th>V26</th>\n",
       "      <th>V27</th>\n",
       "      <th>V28</th>\n",
       "      <th>Amount</th>\n",
       "      <th>Class</th>\n",
       "    </tr>\n",
       "  </thead>\n",
       "  <tbody>\n",
       "    <tr>\n",
       "      <th>0</th>\n",
       "      <td>0.0</td>\n",
       "      <td>-1.359807</td>\n",
       "      <td>-0.072781</td>\n",
       "      <td>2.536347</td>\n",
       "      <td>1.378155</td>\n",
       "      <td>-0.338321</td>\n",
       "      <td>0.462388</td>\n",
       "      <td>0.239599</td>\n",
       "      <td>0.098698</td>\n",
       "      <td>0.363787</td>\n",
       "      <td>...</td>\n",
       "      <td>-0.018307</td>\n",
       "      <td>0.277838</td>\n",
       "      <td>-0.110474</td>\n",
       "      <td>0.066928</td>\n",
       "      <td>0.128539</td>\n",
       "      <td>-0.189115</td>\n",
       "      <td>0.133558</td>\n",
       "      <td>-0.021053</td>\n",
       "      <td>149.62</td>\n",
       "      <td>0</td>\n",
       "    </tr>\n",
       "    <tr>\n",
       "      <th>1</th>\n",
       "      <td>0.0</td>\n",
       "      <td>1.191857</td>\n",
       "      <td>0.266151</td>\n",
       "      <td>0.166480</td>\n",
       "      <td>0.448154</td>\n",
       "      <td>0.060018</td>\n",
       "      <td>-0.082361</td>\n",
       "      <td>-0.078803</td>\n",
       "      <td>0.085102</td>\n",
       "      <td>-0.255425</td>\n",
       "      <td>...</td>\n",
       "      <td>-0.225775</td>\n",
       "      <td>-0.638672</td>\n",
       "      <td>0.101288</td>\n",
       "      <td>-0.339846</td>\n",
       "      <td>0.167170</td>\n",
       "      <td>0.125895</td>\n",
       "      <td>-0.008983</td>\n",
       "      <td>0.014724</td>\n",
       "      <td>2.69</td>\n",
       "      <td>0</td>\n",
       "    </tr>\n",
       "    <tr>\n",
       "      <th>2</th>\n",
       "      <td>1.0</td>\n",
       "      <td>-1.358354</td>\n",
       "      <td>-1.340163</td>\n",
       "      <td>1.773209</td>\n",
       "      <td>0.379780</td>\n",
       "      <td>-0.503198</td>\n",
       "      <td>1.800499</td>\n",
       "      <td>0.791461</td>\n",
       "      <td>0.247676</td>\n",
       "      <td>-1.514654</td>\n",
       "      <td>...</td>\n",
       "      <td>0.247998</td>\n",
       "      <td>0.771679</td>\n",
       "      <td>0.909412</td>\n",
       "      <td>-0.689281</td>\n",
       "      <td>-0.327642</td>\n",
       "      <td>-0.139097</td>\n",
       "      <td>-0.055353</td>\n",
       "      <td>-0.059752</td>\n",
       "      <td>378.66</td>\n",
       "      <td>0</td>\n",
       "    </tr>\n",
       "    <tr>\n",
       "      <th>3</th>\n",
       "      <td>1.0</td>\n",
       "      <td>-0.966272</td>\n",
       "      <td>-0.185226</td>\n",
       "      <td>1.792993</td>\n",
       "      <td>-0.863291</td>\n",
       "      <td>-0.010309</td>\n",
       "      <td>1.247203</td>\n",
       "      <td>0.237609</td>\n",
       "      <td>0.377436</td>\n",
       "      <td>-1.387024</td>\n",
       "      <td>...</td>\n",
       "      <td>-0.108300</td>\n",
       "      <td>0.005274</td>\n",
       "      <td>-0.190321</td>\n",
       "      <td>-1.175575</td>\n",
       "      <td>0.647376</td>\n",
       "      <td>-0.221929</td>\n",
       "      <td>0.062723</td>\n",
       "      <td>0.061458</td>\n",
       "      <td>123.50</td>\n",
       "      <td>0</td>\n",
       "    </tr>\n",
       "    <tr>\n",
       "      <th>4</th>\n",
       "      <td>2.0</td>\n",
       "      <td>-1.158233</td>\n",
       "      <td>0.877737</td>\n",
       "      <td>1.548718</td>\n",
       "      <td>0.403034</td>\n",
       "      <td>-0.407193</td>\n",
       "      <td>0.095921</td>\n",
       "      <td>0.592941</td>\n",
       "      <td>-0.270533</td>\n",
       "      <td>0.817739</td>\n",
       "      <td>...</td>\n",
       "      <td>-0.009431</td>\n",
       "      <td>0.798278</td>\n",
       "      <td>-0.137458</td>\n",
       "      <td>0.141267</td>\n",
       "      <td>-0.206010</td>\n",
       "      <td>0.502292</td>\n",
       "      <td>0.219422</td>\n",
       "      <td>0.215153</td>\n",
       "      <td>69.99</td>\n",
       "      <td>0</td>\n",
       "    </tr>\n",
       "  </tbody>\n",
       "</table>\n",
       "<p>5 rows × 31 columns</p>\n",
       "</div>"
      ],
      "text/plain": [
       "   Time        V1        V2        V3        V4        V5        V6        V7  \\\n",
       "0   0.0 -1.359807 -0.072781  2.536347  1.378155 -0.338321  0.462388  0.239599   \n",
       "1   0.0  1.191857  0.266151  0.166480  0.448154  0.060018 -0.082361 -0.078803   \n",
       "2   1.0 -1.358354 -1.340163  1.773209  0.379780 -0.503198  1.800499  0.791461   \n",
       "3   1.0 -0.966272 -0.185226  1.792993 -0.863291 -0.010309  1.247203  0.237609   \n",
       "4   2.0 -1.158233  0.877737  1.548718  0.403034 -0.407193  0.095921  0.592941   \n",
       "\n",
       "         V8        V9  ...       V21       V22       V23       V24       V25  \\\n",
       "0  0.098698  0.363787  ... -0.018307  0.277838 -0.110474  0.066928  0.128539   \n",
       "1  0.085102 -0.255425  ... -0.225775 -0.638672  0.101288 -0.339846  0.167170   \n",
       "2  0.247676 -1.514654  ...  0.247998  0.771679  0.909412 -0.689281 -0.327642   \n",
       "3  0.377436 -1.387024  ... -0.108300  0.005274 -0.190321 -1.175575  0.647376   \n",
       "4 -0.270533  0.817739  ... -0.009431  0.798278 -0.137458  0.141267 -0.206010   \n",
       "\n",
       "        V26       V27       V28  Amount  Class  \n",
       "0 -0.189115  0.133558 -0.021053  149.62      0  \n",
       "1  0.125895 -0.008983  0.014724    2.69      0  \n",
       "2 -0.139097 -0.055353 -0.059752  378.66      0  \n",
       "3 -0.221929  0.062723  0.061458  123.50      0  \n",
       "4  0.502292  0.219422  0.215153   69.99      0  \n",
       "\n",
       "[5 rows x 31 columns]"
      ]
     },
     "execution_count": 2,
     "metadata": {},
     "output_type": "execute_result"
    }
   ],
   "source": [
    "df = pd.read_csv('creditcard.csv')\n",
    "df.head()\n",
    "     "
   ]
  },
  {
   "cell_type": "code",
   "execution_count": 3,
   "id": "a774ccac",
   "metadata": {},
   "outputs": [
    {
     "name": "stdout",
     "output_type": "stream",
     "text": [
      "                Time             V1             V2             V3  \\\n",
      "count  284807.000000  284807.000000  284807.000000  284807.000000   \n",
      "mean    94813.859575       0.000017       0.000008       0.014970   \n",
      "std     47488.145955       1.958679       1.651295       8.073856   \n",
      "min         0.000000     -56.407510     -72.715728     -48.325589   \n",
      "25%     54201.500000      -0.920327      -0.598532      -0.890365   \n",
      "50%     84692.000000       0.018027       0.065467       0.179832   \n",
      "75%    139320.500000       1.315632       0.803724       1.027212   \n",
      "max    172792.000000       2.454930      22.057729    4232.000000   \n",
      "\n",
      "                  V4             V5             V6             V7  \\\n",
      "count  284807.000000  284807.000000  284807.000000  284807.000000   \n",
      "mean        0.000023       0.000022      -0.000016       0.000029   \n",
      "std         1.415859       1.380234       1.332244       1.237076   \n",
      "min        -5.683171    -113.743307     -26.160506     -43.557242   \n",
      "25%        -0.848611      -0.691568      -0.768290      -0.554011   \n",
      "50%        -0.019816      -0.054314      -0.274159       0.040104   \n",
      "75%         0.743355       0.611926       0.398487       0.570450   \n",
      "max        16.875344      34.801666      73.301626     120.589494   \n",
      "\n",
      "                  V8             V9  ...           V21           V22  \\\n",
      "count  284807.000000  284807.000000  ...  2.848070e+05  2.848070e+05   \n",
      "mean        0.000003       0.004311  ... -3.406538e-13 -5.713357e-13   \n",
      "std         1.194354       2.538010  ...  7.345240e-01  7.257016e-01   \n",
      "min       -73.216718     -13.434066  ... -3.483038e+01 -1.093314e+01   \n",
      "25%        -0.208630      -0.643068  ... -2.283949e-01 -5.423504e-01   \n",
      "50%         0.022358      -0.051331  ... -2.945017e-02  6.781943e-03   \n",
      "75%         0.327349       0.597139  ...  1.863772e-01  5.285536e-01   \n",
      "max        20.007208    1221.000000  ...  2.720284e+01  1.050309e+01   \n",
      "\n",
      "                V23           V24           V25           V26           V27  \\\n",
      "count  2.848070e+05  2.848070e+05  2.848070e+05  2.848070e+05  2.848070e+05   \n",
      "mean  -9.725290e-13  1.464144e-12 -6.989090e-13 -5.615254e-13  3.332111e-12   \n",
      "std    6.244603e-01  6.056471e-01  5.212781e-01  4.822270e-01  4.036325e-01   \n",
      "min   -4.480774e+01 -2.836627e+00 -1.029540e+01 -2.604551e+00 -2.256568e+01   \n",
      "25%   -1.618463e-01 -3.545861e-01 -3.171451e-01 -3.269839e-01 -7.083953e-02   \n",
      "50%   -1.119293e-02  4.097606e-02  1.659350e-02 -5.213911e-02  1.342146e-03   \n",
      "75%    1.476421e-01  4.395266e-01  3.507156e-01  2.409522e-01  9.104512e-02   \n",
      "max    2.252841e+01  4.584549e+00  7.519589e+00  3.517346e+00  3.161220e+01   \n",
      "\n",
      "                V28         Amount          Class  \n",
      "count  2.848070e+05  284807.000000  284807.000000  \n",
      "mean  -3.518885e-12      88.349619       0.001727  \n",
      "std    3.300833e-01     250.120109       0.041527  \n",
      "min   -1.543008e+01       0.000000       0.000000  \n",
      "25%   -5.295979e-02       5.600000       0.000000  \n",
      "50%    1.124383e-02      22.000000       0.000000  \n",
      "75%    7.827995e-02      77.165000       0.000000  \n",
      "max    3.384781e+01   25691.160000       1.000000  \n",
      "\n",
      "[8 rows x 31 columns]\n"
     ]
    }
   ],
   "source": [
    "# Summary statistics\n",
    "print(df.describe())"
   ]
  },
  {
   "cell_type": "code",
   "execution_count": 4,
   "id": "310a9db4",
   "metadata": {},
   "outputs": [
    {
     "name": "stdout",
     "output_type": "stream",
     "text": [
      "Number of rows in df file     : 284807\n",
      "Number of columns in df file  : 31\n"
     ]
    }
   ],
   "source": [
    "# Evaluate number of columns and rows in given dataset\n",
    "\n",
    "Number_of_row = df.shape[0]\n",
    "Number_of_column = df.shape[1]\n",
    "\n",
    "print('Number of rows in df file     :', Number_of_row)\n",
    "print('Number of columns in df file  :', Number_of_column)"
   ]
  },
  {
   "cell_type": "code",
   "execution_count": 5,
   "id": "0e14f682",
   "metadata": {},
   "outputs": [
    {
     "name": "stdout",
     "output_type": "stream",
     "text": [
      "<class 'pandas.core.frame.DataFrame'>\n",
      "RangeIndex: 284807 entries, 0 to 284806\n",
      "Data columns (total 31 columns):\n",
      " #   Column  Non-Null Count   Dtype  \n",
      "---  ------  --------------   -----  \n",
      " 0   Time    284807 non-null  float64\n",
      " 1   V1      284807 non-null  float64\n",
      " 2   V2      284807 non-null  float64\n",
      " 3   V3      284807 non-null  float64\n",
      " 4   V4      284807 non-null  float64\n",
      " 5   V5      284807 non-null  float64\n",
      " 6   V6      284807 non-null  float64\n",
      " 7   V7      284807 non-null  float64\n",
      " 8   V8      284807 non-null  float64\n",
      " 9   V9      284807 non-null  float64\n",
      " 10  V10     284807 non-null  float64\n",
      " 11  V11     284807 non-null  float64\n",
      " 12  V12     284807 non-null  float64\n",
      " 13  V13     284807 non-null  float64\n",
      " 14  V14     284807 non-null  float64\n",
      " 15  V15     284807 non-null  float64\n",
      " 16  V16     284807 non-null  float64\n",
      " 17  V17     284807 non-null  float64\n",
      " 18  V18     284807 non-null  float64\n",
      " 19  V19     284807 non-null  float64\n",
      " 20  V20     284807 non-null  float64\n",
      " 21  V21     284807 non-null  float64\n",
      " 22  V22     284807 non-null  float64\n",
      " 23  V23     284807 non-null  float64\n",
      " 24  V24     284807 non-null  float64\n",
      " 25  V25     284807 non-null  float64\n",
      " 26  V26     284807 non-null  float64\n",
      " 27  V27     284807 non-null  float64\n",
      " 28  V28     284807 non-null  float64\n",
      " 29  Amount  284807 non-null  float64\n",
      " 30  Class   284807 non-null  int64  \n",
      "dtypes: float64(30), int64(1)\n",
      "memory usage: 67.4 MB\n"
     ]
    }
   ],
   "source": [
    "df.info()"
   ]
  },
  {
   "cell_type": "markdown",
   "id": "e77319cb",
   "metadata": {},
   "source": [
    "## Exploratory Data Analysis"
   ]
  },
  {
   "cell_type": "code",
   "execution_count": 6,
   "id": "9c4fa7da",
   "metadata": {},
   "outputs": [
    {
     "data": {
      "text/plain": [
       "Time      0\n",
       "V1        0\n",
       "V2        0\n",
       "V3        0\n",
       "V4        0\n",
       "V5        0\n",
       "V6        0\n",
       "V7        0\n",
       "V8        0\n",
       "V9        0\n",
       "V10       0\n",
       "V11       0\n",
       "V12       0\n",
       "V13       0\n",
       "V14       0\n",
       "V15       0\n",
       "V16       0\n",
       "V17       0\n",
       "V18       0\n",
       "V19       0\n",
       "V20       0\n",
       "V21       0\n",
       "V22       0\n",
       "V23       0\n",
       "V24       0\n",
       "V25       0\n",
       "V26       0\n",
       "V27       0\n",
       "V28       0\n",
       "Amount    0\n",
       "Class     0\n",
       "dtype: int64"
      ]
     },
     "execution_count": 6,
     "metadata": {},
     "output_type": "execute_result"
    }
   ],
   "source": [
    "df.isnull().sum()"
   ]
  },
  {
   "cell_type": "code",
   "execution_count": 7,
   "id": "f4d3cc94",
   "metadata": {},
   "outputs": [
    {
     "data": {
      "text/plain": [
       "0    284315\n",
       "1       492\n",
       "Name: Class, dtype: int64"
      ]
     },
     "execution_count": 7,
     "metadata": {},
     "output_type": "execute_result"
    }
   ],
   "source": [
    "df['Class'].value_counts()"
   ]
  },
  {
   "cell_type": "code",
   "execution_count": 8,
   "id": "01af05b3",
   "metadata": {},
   "outputs": [
    {
     "data": {
      "text/plain": [
       "Text(0, 0.5, 'Frequency')"
      ]
     },
     "execution_count": 8,
     "metadata": {},
     "output_type": "execute_result"
    },
    {
     "data": {
      "image/png": "[encoded data removed]",
      "text/plain": [
       "<Figure size 640x480 with 1 Axes>"
      ]
     },
     "metadata": {},
     "output_type": "display_data"
    }
   ],
   "source": [
    "count_classes = pd.value_counts(df['Class'], sort = True)\n",
    "\n",
    "count_classes.plot(kind = 'bar', rot=0)\n",
    "\n",
    "plt.title(\"Transaction Class Distribution\")\n",
    "\n",
    "plt.xticks(range(2), LABELS)\n",
    "\n",
    "plt.xlabel(\"Class\")\n",
    "\n",
    "plt.ylabel(\"Frequency\")"
   ]
  },
  {
   "cell_type": "code",
   "execution_count": 9,
   "id": "d37aeaea",
   "metadata": {},
   "outputs": [
    {
     "data": {
      "image/png": "[encoded data removed]",
      "text/plain": [
       "<Figure size 1200x800 with 2 Axes>"
      ]
     },
     "metadata": {},
     "output_type": "display_data"
    }
   ],
   "source": [
    "\n",
    "# Correlation matrix\n",
    "corr_matrix = df.corr()\n",
    "plt.figure(figsize=(12, 8))\n",
    "sns.heatmap(corr_matrix, cmap='coolwarm', annot=False, fmt=\".2f\")\n",
    "plt.title('Correlation Matrix')\n",
    "plt.show()\n"
   ]
  },
  {
   "cell_type": "markdown",
   "id": "13200ec6",
   "metadata": {},
   "source": [
    "#### _This Dataset is highly unbalanced"
   ]
  },
  {
   "cell_type": "code",
   "execution_count": 10,
   "id": "8949586b",
   "metadata": {},
   "outputs": [
    {
     "name": "stdout",
     "output_type": "stream",
     "text": [
      "Non_Fraudulent: (284315, 31)\n",
      "Fraudulent: (492, 31)\n"
     ]
    }
   ],
   "source": [
    "Non_Fraudulent= df[df[\"Class\"] == 0]\n",
    "print (\"Non_Fraudulent:\", Non_Fraudulent.shape)\n",
    "Fraudulent= df[df[\"Class\"] == 1]\n",
    "print (\"Fraudulent:\", Fraudulent.shape)"
   ]
  },
  {
   "cell_type": "code",
   "execution_count": 11,
   "id": "2eb1ca82",
   "metadata": {},
   "outputs": [
    {
     "data": {
      "text/plain": [
       "count     492.000000\n",
       "mean      122.211321\n",
       "std       256.683288\n",
       "min         0.000000\n",
       "25%         1.000000\n",
       "50%         9.250000\n",
       "75%       105.890000\n",
       "max      2125.870000\n",
       "Name: Amount, dtype: float64"
      ]
     },
     "execution_count": 11,
     "metadata": {},
     "output_type": "execute_result"
    }
   ],
   "source": [
    "## We need to analyze more amount of information from the transaction data\n",
    "#How different are the amount of money used in different transaction classes?\n",
    "Fraudulent.Amount.describe()"
   ]
  },
  {
   "cell_type": "code",
   "execution_count": 12,
   "id": "ed00a146",
   "metadata": {},
   "outputs": [
    {
     "data": {
      "text/plain": [
       "count    284315.000000\n",
       "mean         88.291022\n",
       "std         250.105092\n",
       "min           0.000000\n",
       "25%           5.650000\n",
       "50%          22.000000\n",
       "75%          77.050000\n",
       "max       25691.160000\n",
       "Name: Amount, dtype: float64"
      ]
     },
     "execution_count": 12,
     "metadata": {},
     "output_type": "execute_result"
    }
   ],
   "source": [
    "Non_Fraudulent.Amount.describe()"
   ]
  },
  {
   "cell_type": "code",
   "execution_count": 13,
   "id": "507fccae",
   "metadata": {},
   "outputs": [
    {
     "data": {
      "text/html": [
       "<div>\n",
       "<style scoped>\n",
       "    .dataframe tbody tr th:only-of-type {\n",
       "        vertical-align: middle;\n",
       "    }\n",
       "\n",
       "    .dataframe tbody tr th {\n",
       "        vertical-align: top;\n",
       "    }\n",
       "\n",
       "    .dataframe thead th {\n",
       "        text-align: right;\n",
       "    }\n",
       "</style>\n",
       "<table border=\"1\" class=\"dataframe\">\n",
       "  <thead>\n",
       "    <tr style=\"text-align: right;\">\n",
       "      <th></th>\n",
       "      <th>Time</th>\n",
       "      <th>V1</th>\n",
       "      <th>V2</th>\n",
       "      <th>V3</th>\n",
       "      <th>V4</th>\n",
       "      <th>V5</th>\n",
       "      <th>V6</th>\n",
       "      <th>V7</th>\n",
       "      <th>V8</th>\n",
       "      <th>V9</th>\n",
       "      <th>...</th>\n",
       "      <th>V20</th>\n",
       "      <th>V21</th>\n",
       "      <th>V22</th>\n",
       "      <th>V23</th>\n",
       "      <th>V24</th>\n",
       "      <th>V25</th>\n",
       "      <th>V26</th>\n",
       "      <th>V27</th>\n",
       "      <th>V28</th>\n",
       "      <th>Amount</th>\n",
       "    </tr>\n",
       "    <tr>\n",
       "      <th>Class</th>\n",
       "      <th></th>\n",
       "      <th></th>\n",
       "      <th></th>\n",
       "      <th></th>\n",
       "      <th></th>\n",
       "      <th></th>\n",
       "      <th></th>\n",
       "      <th></th>\n",
       "      <th></th>\n",
       "      <th></th>\n",
       "      <th></th>\n",
       "      <th></th>\n",
       "      <th></th>\n",
       "      <th></th>\n",
       "      <th></th>\n",
       "      <th></th>\n",
       "      <th></th>\n",
       "      <th></th>\n",
       "      <th></th>\n",
       "      <th></th>\n",
       "      <th></th>\n",
       "    </tr>\n",
       "  </thead>\n",
       "  <tbody>\n",
       "    <tr>\n",
       "      <th>0</th>\n",
       "      <td>94838.202258</td>\n",
       "      <td>0.008274</td>\n",
       "      <td>-0.006263</td>\n",
       "      <td>0.027167</td>\n",
       "      <td>-0.007837</td>\n",
       "      <td>0.005475</td>\n",
       "      <td>0.002403</td>\n",
       "      <td>0.009666</td>\n",
       "      <td>-0.000985</td>\n",
       "      <td>0.008785</td>\n",
       "      <td>...</td>\n",
       "      <td>-0.000644</td>\n",
       "      <td>-0.001235</td>\n",
       "      <td>-0.000024</td>\n",
       "      <td>0.000070</td>\n",
       "      <td>0.000182</td>\n",
       "      <td>-0.000072</td>\n",
       "      <td>-0.000089</td>\n",
       "      <td>-0.000295</td>\n",
       "      <td>-0.000131</td>\n",
       "      <td>88.291022</td>\n",
       "    </tr>\n",
       "    <tr>\n",
       "      <th>1</th>\n",
       "      <td>80746.806911</td>\n",
       "      <td>-4.771948</td>\n",
       "      <td>3.623778</td>\n",
       "      <td>-7.033281</td>\n",
       "      <td>4.542029</td>\n",
       "      <td>-3.151225</td>\n",
       "      <td>-1.397737</td>\n",
       "      <td>-5.568731</td>\n",
       "      <td>0.570636</td>\n",
       "      <td>-2.581123</td>\n",
       "      <td>...</td>\n",
       "      <td>0.372319</td>\n",
       "      <td>0.713588</td>\n",
       "      <td>0.014049</td>\n",
       "      <td>-0.040308</td>\n",
       "      <td>-0.105130</td>\n",
       "      <td>0.041449</td>\n",
       "      <td>0.051648</td>\n",
       "      <td>0.170575</td>\n",
       "      <td>0.075667</td>\n",
       "      <td>122.211321</td>\n",
       "    </tr>\n",
       "  </tbody>\n",
       "</table>\n",
       "<p>2 rows × 30 columns</p>\n",
       "</div>"
      ],
      "text/plain": [
       "               Time        V1        V2        V3        V4        V5  \\\n",
       "Class                                                                   \n",
       "0      94838.202258  0.008274 -0.006263  0.027167 -0.007837  0.005475   \n",
       "1      80746.806911 -4.771948  3.623778 -7.033281  4.542029 -3.151225   \n",
       "\n",
       "             V6        V7        V8        V9  ...       V20       V21  \\\n",
       "Class                                          ...                       \n",
       "0      0.002403  0.009666 -0.000985  0.008785  ... -0.000644 -0.001235   \n",
       "1     -1.397737 -5.568731  0.570636 -2.581123  ...  0.372319  0.713588   \n",
       "\n",
       "            V22       V23       V24       V25       V26       V27       V28  \\\n",
       "Class                                                                         \n",
       "0     -0.000024  0.000070  0.000182 -0.000072 -0.000089 -0.000295 -0.000131   \n",
       "1      0.014049 -0.040308 -0.105130  0.041449  0.051648  0.170575  0.075667   \n",
       "\n",
       "           Amount  \n",
       "Class              \n",
       "0       88.291022  \n",
       "1      122.211321  \n",
       "\n",
       "[2 rows x 30 columns]"
      ]
     },
     "execution_count": 13,
     "metadata": {},
     "output_type": "execute_result"
    }
   ],
   "source": [
    "# compare the values for both transactions\n",
    "df.groupby('Class').mean()\n",
    "     "
   ]
  },
  {
   "cell_type": "markdown",
   "id": "d727caaf",
   "metadata": {},
   "source": [
    "#### _Under-Sampling_\n",
    "\n",
    "Build a sample dataset containing similar distribution of normal transactions and Fraudulent Transactions\n",
    "\n",
    "Number of Fraudulent Transactions --> 492"
   ]
  },
  {
   "cell_type": "code",
   "execution_count": 14,
   "id": "b835f7ec",
   "metadata": {},
   "outputs": [],
   "source": [
    "Non_Fraudulent_sample = Non_Fraudulent.sample(n=492)"
   ]
  },
  {
   "cell_type": "markdown",
   "id": "a362f4c9",
   "metadata": {},
   "source": [
    "#### _Concatenating two DataFrames_"
   ]
  },
  {
   "cell_type": "code",
   "execution_count": 15,
   "id": "1da51f65",
   "metadata": {},
   "outputs": [],
   "source": [
    "new_dataset = pd.concat([Non_Fraudulent_sample, Fraudulent], axis=0)"
   ]
  },
  {
   "cell_type": "code",
   "execution_count": 16,
   "id": "8a93e245",
   "metadata": {},
   "outputs": [
    {
     "data": {
      "text/html": [
       "<div>\n",
       "<style scoped>\n",
       "    .dataframe tbody tr th:only-of-type {\n",
       "        vertical-align: middle;\n",
       "    }\n",
       "\n",
       "    .dataframe tbody tr th {\n",
       "        vertical-align: top;\n",
       "    }\n",
       "\n",
       "    .dataframe thead th {\n",
       "        text-align: right;\n",
       "    }\n",
       "</style>\n",
       "<table border=\"1\" class=\"dataframe\">\n",
       "  <thead>\n",
       "    <tr style=\"text-align: right;\">\n",
       "      <th></th>\n",
       "      <th>Time</th>\n",
       "      <th>V1</th>\n",
       "      <th>V2</th>\n",
       "      <th>V3</th>\n",
       "      <th>V4</th>\n",
       "      <th>V5</th>\n",
       "      <th>V6</th>\n",
       "      <th>V7</th>\n",
       "      <th>V8</th>\n",
       "      <th>V9</th>\n",
       "      <th>...</th>\n",
       "      <th>V21</th>\n",
       "      <th>V22</th>\n",
       "      <th>V23</th>\n",
       "      <th>V24</th>\n",
       "      <th>V25</th>\n",
       "      <th>V26</th>\n",
       "      <th>V27</th>\n",
       "      <th>V28</th>\n",
       "      <th>Amount</th>\n",
       "      <th>Class</th>\n",
       "    </tr>\n",
       "  </thead>\n",
       "  <tbody>\n",
       "    <tr>\n",
       "      <th>258866</th>\n",
       "      <td>158856.0</td>\n",
       "      <td>2.068454</td>\n",
       "      <td>-1.220696</td>\n",
       "      <td>-1.116493</td>\n",
       "      <td>-0.754262</td>\n",
       "      <td>-0.575173</td>\n",
       "      <td>0.198353</td>\n",
       "      <td>-0.804973</td>\n",
       "      <td>0.110660</td>\n",
       "      <td>0.223773</td>\n",
       "      <td>...</td>\n",
       "      <td>-0.128207</td>\n",
       "      <td>-0.282108</td>\n",
       "      <td>0.181467</td>\n",
       "      <td>0.349023</td>\n",
       "      <td>-0.060442</td>\n",
       "      <td>-0.355585</td>\n",
       "      <td>-0.024522</td>\n",
       "      <td>-0.059444</td>\n",
       "      <td>55.19</td>\n",
       "      <td>0</td>\n",
       "    </tr>\n",
       "    <tr>\n",
       "      <th>9224</th>\n",
       "      <td>13266.0</td>\n",
       "      <td>1.148080</td>\n",
       "      <td>-0.991834</td>\n",
       "      <td>1.299267</td>\n",
       "      <td>-0.286694</td>\n",
       "      <td>-1.727364</td>\n",
       "      <td>-0.237626</td>\n",
       "      <td>-1.277858</td>\n",
       "      <td>0.075846</td>\n",
       "      <td>1.003411</td>\n",
       "      <td>...</td>\n",
       "      <td>0.263262</td>\n",
       "      <td>0.833237</td>\n",
       "      <td>-0.141740</td>\n",
       "      <td>0.513162</td>\n",
       "      <td>0.324915</td>\n",
       "      <td>-0.121270</td>\n",
       "      <td>0.000389</td>\n",
       "      <td>0.023553</td>\n",
       "      <td>89.95</td>\n",
       "      <td>0</td>\n",
       "    </tr>\n",
       "    <tr>\n",
       "      <th>231956</th>\n",
       "      <td>146992.0</td>\n",
       "      <td>-0.303349</td>\n",
       "      <td>1.077423</td>\n",
       "      <td>-0.439382</td>\n",
       "      <td>-0.474360</td>\n",
       "      <td>0.507029</td>\n",
       "      <td>-0.700396</td>\n",
       "      <td>0.925844</td>\n",
       "      <td>0.070086</td>\n",
       "      <td>-0.505994</td>\n",
       "      <td>...</td>\n",
       "      <td>0.434505</td>\n",
       "      <td>1.236417</td>\n",
       "      <td>-0.180111</td>\n",
       "      <td>-0.585031</td>\n",
       "      <td>-0.312352</td>\n",
       "      <td>-0.123843</td>\n",
       "      <td>0.084584</td>\n",
       "      <td>0.154410</td>\n",
       "      <td>49.73</td>\n",
       "      <td>0</td>\n",
       "    </tr>\n",
       "    <tr>\n",
       "      <th>48527</th>\n",
       "      <td>43684.0</td>\n",
       "      <td>-0.976443</td>\n",
       "      <td>0.439405</td>\n",
       "      <td>1.149273</td>\n",
       "      <td>0.166857</td>\n",
       "      <td>0.040892</td>\n",
       "      <td>-0.217767</td>\n",
       "      <td>0.320248</td>\n",
       "      <td>0.287040</td>\n",
       "      <td>-0.213150</td>\n",
       "      <td>...</td>\n",
       "      <td>-0.157172</td>\n",
       "      <td>-0.230536</td>\n",
       "      <td>0.227801</td>\n",
       "      <td>0.025807</td>\n",
       "      <td>0.085243</td>\n",
       "      <td>0.206280</td>\n",
       "      <td>-0.361070</td>\n",
       "      <td>-0.334015</td>\n",
       "      <td>29.45</td>\n",
       "      <td>0</td>\n",
       "    </tr>\n",
       "    <tr>\n",
       "      <th>232622</th>\n",
       "      <td>147240.0</td>\n",
       "      <td>1.788792</td>\n",
       "      <td>-0.337726</td>\n",
       "      <td>-0.824577</td>\n",
       "      <td>1.479888</td>\n",
       "      <td>0.086002</td>\n",
       "      <td>0.385607</td>\n",
       "      <td>-0.075023</td>\n",
       "      <td>0.099840</td>\n",
       "      <td>0.760822</td>\n",
       "      <td>...</td>\n",
       "      <td>-0.240269</td>\n",
       "      <td>-0.480050</td>\n",
       "      <td>0.205490</td>\n",
       "      <td>0.687597</td>\n",
       "      <td>0.022244</td>\n",
       "      <td>-0.877915</td>\n",
       "      <td>0.024816</td>\n",
       "      <td>-0.034525</td>\n",
       "      <td>71.00</td>\n",
       "      <td>0</td>\n",
       "    </tr>\n",
       "  </tbody>\n",
       "</table>\n",
       "<p>5 rows × 31 columns</p>\n",
       "</div>"
      ],
      "text/plain": [
       "            Time        V1        V2        V3        V4        V5        V6  \\\n",
       "258866  158856.0  2.068454 -1.220696 -1.116493 -0.754262 -0.575173  0.198353   \n",
       "9224     13266.0  1.148080 -0.991834  1.299267 -0.286694 -1.727364 -0.237626   \n",
       "231956  146992.0 -0.303349  1.077423 -0.439382 -0.474360  0.507029 -0.700396   \n",
       "48527    43684.0 -0.976443  0.439405  1.149273  0.166857  0.040892 -0.217767   \n",
       "232622  147240.0  1.788792 -0.337726 -0.824577  1.479888  0.086002  0.385607   \n",
       "\n",
       "              V7        V8        V9  ...       V21       V22       V23  \\\n",
       "258866 -0.804973  0.110660  0.223773  ... -0.128207 -0.282108  0.181467   \n",
       "9224   -1.277858  0.075846  1.003411  ...  0.263262  0.833237 -0.141740   \n",
       "231956  0.925844  0.070086 -0.505994  ...  0.434505  1.236417 -0.180111   \n",
       "48527   0.320248  0.287040 -0.213150  ... -0.157172 -0.230536  0.227801   \n",
       "232622 -0.075023  0.099840  0.760822  ... -0.240269 -0.480050  0.205490   \n",
       "\n",
       "             V24       V25       V26       V27       V28  Amount  Class  \n",
       "258866  0.349023 -0.060442 -0.355585 -0.024522 -0.059444   55.19      0  \n",
       "9224    0.513162  0.324915 -0.121270  0.000389  0.023553   89.95      0  \n",
       "231956 -0.585031 -0.312352 -0.123843  0.084584  0.154410   49.73      0  \n",
       "48527   0.025807  0.085243  0.206280 -0.361070 -0.334015   29.45      0  \n",
       "232622  0.687597  0.022244 -0.877915  0.024816 -0.034525   71.00      0  \n",
       "\n",
       "[5 rows x 31 columns]"
      ]
     },
     "execution_count": 16,
     "metadata": {},
     "output_type": "execute_result"
    }
   ],
   "source": [
    "new_dataset.head()"
   ]
  },
  {
   "cell_type": "code",
   "execution_count": 17,
   "id": "ab3bd44b",
   "metadata": {},
   "outputs": [
    {
     "data": {
      "text/plain": [
       "0    492\n",
       "1    492\n",
       "Name: Class, dtype: int64"
      ]
     },
     "execution_count": 17,
     "metadata": {},
     "output_type": "execute_result"
    }
   ],
   "source": [
    "new_dataset['Class'].value_counts()"
   ]
  },
  {
   "cell_type": "code",
   "execution_count": 18,
   "id": "554cbd69",
   "metadata": {},
   "outputs": [
    {
     "data": {
      "text/html": [
       "<div>\n",
       "<style scoped>\n",
       "    .dataframe tbody tr th:only-of-type {\n",
       "        vertical-align: middle;\n",
       "    }\n",
       "\n",
       "    .dataframe tbody tr th {\n",
       "        vertical-align: top;\n",
       "    }\n",
       "\n",
       "    .dataframe thead th {\n",
       "        text-align: right;\n",
       "    }\n",
       "</style>\n",
       "<table border=\"1\" class=\"dataframe\">\n",
       "  <thead>\n",
       "    <tr style=\"text-align: right;\">\n",
       "      <th></th>\n",
       "      <th>Time</th>\n",
       "      <th>V1</th>\n",
       "      <th>V2</th>\n",
       "      <th>V3</th>\n",
       "      <th>V4</th>\n",
       "      <th>V5</th>\n",
       "      <th>V6</th>\n",
       "      <th>V7</th>\n",
       "      <th>V8</th>\n",
       "      <th>V9</th>\n",
       "      <th>...</th>\n",
       "      <th>V20</th>\n",
       "      <th>V21</th>\n",
       "      <th>V22</th>\n",
       "      <th>V23</th>\n",
       "      <th>V24</th>\n",
       "      <th>V25</th>\n",
       "      <th>V26</th>\n",
       "      <th>V27</th>\n",
       "      <th>V28</th>\n",
       "      <th>Amount</th>\n",
       "    </tr>\n",
       "    <tr>\n",
       "      <th>Class</th>\n",
       "      <th></th>\n",
       "      <th></th>\n",
       "      <th></th>\n",
       "      <th></th>\n",
       "      <th></th>\n",
       "      <th></th>\n",
       "      <th></th>\n",
       "      <th></th>\n",
       "      <th></th>\n",
       "      <th></th>\n",
       "      <th></th>\n",
       "      <th></th>\n",
       "      <th></th>\n",
       "      <th></th>\n",
       "      <th></th>\n",
       "      <th></th>\n",
       "      <th></th>\n",
       "      <th></th>\n",
       "      <th></th>\n",
       "      <th></th>\n",
       "      <th></th>\n",
       "    </tr>\n",
       "  </thead>\n",
       "  <tbody>\n",
       "    <tr>\n",
       "      <th>0</th>\n",
       "      <td>91774.796748</td>\n",
       "      <td>-0.076568</td>\n",
       "      <td>-0.162621</td>\n",
       "      <td>-0.007414</td>\n",
       "      <td>-0.076169</td>\n",
       "      <td>-0.016041</td>\n",
       "      <td>0.199022</td>\n",
       "      <td>0.037596</td>\n",
       "      <td>-0.009585</td>\n",
       "      <td>-0.074117</td>\n",
       "      <td>...</td>\n",
       "      <td>-0.035651</td>\n",
       "      <td>-0.020590</td>\n",
       "      <td>-0.012036</td>\n",
       "      <td>-0.011407</td>\n",
       "      <td>0.048554</td>\n",
       "      <td>0.036246</td>\n",
       "      <td>-0.005682</td>\n",
       "      <td>-0.040748</td>\n",
       "      <td>0.049487</td>\n",
       "      <td>105.121911</td>\n",
       "    </tr>\n",
       "    <tr>\n",
       "      <th>1</th>\n",
       "      <td>80746.806911</td>\n",
       "      <td>-4.771948</td>\n",
       "      <td>3.623778</td>\n",
       "      <td>-7.033281</td>\n",
       "      <td>4.542029</td>\n",
       "      <td>-3.151225</td>\n",
       "      <td>-1.397737</td>\n",
       "      <td>-5.568731</td>\n",
       "      <td>0.570636</td>\n",
       "      <td>-2.581123</td>\n",
       "      <td>...</td>\n",
       "      <td>0.372319</td>\n",
       "      <td>0.713588</td>\n",
       "      <td>0.014049</td>\n",
       "      <td>-0.040308</td>\n",
       "      <td>-0.105130</td>\n",
       "      <td>0.041449</td>\n",
       "      <td>0.051648</td>\n",
       "      <td>0.170575</td>\n",
       "      <td>0.075667</td>\n",
       "      <td>122.211321</td>\n",
       "    </tr>\n",
       "  </tbody>\n",
       "</table>\n",
       "<p>2 rows × 30 columns</p>\n",
       "</div>"
      ],
      "text/plain": [
       "               Time        V1        V2        V3        V4        V5  \\\n",
       "Class                                                                   \n",
       "0      91774.796748 -0.076568 -0.162621 -0.007414 -0.076169 -0.016041   \n",
       "1      80746.806911 -4.771948  3.623778 -7.033281  4.542029 -3.151225   \n",
       "\n",
       "             V6        V7        V8        V9  ...       V20       V21  \\\n",
       "Class                                          ...                       \n",
       "0      0.199022  0.037596 -0.009585 -0.074117  ... -0.035651 -0.020590   \n",
       "1     -1.397737 -5.568731  0.570636 -2.581123  ...  0.372319  0.713588   \n",
       "\n",
       "            V22       V23       V24       V25       V26       V27       V28  \\\n",
       "Class                                                                         \n",
       "0     -0.012036 -0.011407  0.048554  0.036246 -0.005682 -0.040748  0.049487   \n",
       "1      0.014049 -0.040308 -0.105130  0.041449  0.051648  0.170575  0.075667   \n",
       "\n",
       "           Amount  \n",
       "Class              \n",
       "0      105.121911  \n",
       "1      122.211321  \n",
       "\n",
       "[2 rows x 30 columns]"
      ]
     },
     "execution_count": 18,
     "metadata": {},
     "output_type": "execute_result"
    }
   ],
   "source": [
    "new_dataset.groupby('Class').mean()"
   ]
  },
  {
   "cell_type": "markdown",
   "id": "6beff8c7",
   "metadata": {},
   "source": [
    "#### _Splitting the data into Features & Targets_"
   ]
  },
  {
   "cell_type": "code",
   "execution_count": 19,
   "id": "792098a8",
   "metadata": {},
   "outputs": [],
   "source": [
    "#Create X and Y\n",
    "\n",
    "X = new_dataset.drop(columns='Class', axis=1)\n",
    "Y = new_dataset['Class']\n",
    "     "
   ]
  },
  {
   "cell_type": "code",
   "execution_count": 20,
   "id": "04db0066",
   "metadata": {},
   "outputs": [
    {
     "name": "stdout",
     "output_type": "stream",
     "text": [
      "            Time        V1        V2        V3        V4        V5        V6  \\\n",
      "258866  158856.0  2.068454 -1.220696 -1.116493 -0.754262 -0.575173  0.198353   \n",
      "9224     13266.0  1.148080 -0.991834  1.299267 -0.286694 -1.727364 -0.237626   \n",
      "231956  146992.0 -0.303349  1.077423 -0.439382 -0.474360  0.507029 -0.700396   \n",
      "48527    43684.0 -0.976443  0.439405  1.149273  0.166857  0.040892 -0.217767   \n",
      "232622  147240.0  1.788792 -0.337726 -0.824577  1.479888  0.086002  0.385607   \n",
      "...          ...       ...       ...       ...       ...       ...       ...   \n",
      "279863  169142.0 -1.927883  1.125653 -4.518331  1.749293 -1.566487 -2.010494   \n",
      "280143  169347.0  1.378559  1.289381 -5.004247  1.411850  0.442581 -1.326536   \n",
      "280149  169351.0 -0.676143  1.126366 -2.213700  0.468308 -1.120541 -0.003346   \n",
      "281144  169966.0 -3.113832  0.585864 -5.399730  1.817092 -0.840618 -2.943548   \n",
      "281674  170348.0  1.991976  0.158476 -2.583441  0.408670  1.151147 -0.096695   \n",
      "\n",
      "              V7        V8        V9  ...       V20       V21       V22  \\\n",
      "258866 -0.804973  0.110660  0.223773  ...  0.002889 -0.128207 -0.282108   \n",
      "9224   -1.277858  0.075846  1.003411  ...  0.155935  0.263262  0.833237   \n",
      "231956  0.925844  0.070086 -0.505994  ... -0.048732  0.434505  1.236417   \n",
      "48527   0.320248  0.287040 -0.213150  ... -0.181401 -0.157172 -0.230536   \n",
      "232622 -0.075023  0.099840  0.760822  ... -0.113239 -0.240269 -0.480050   \n",
      "...          ...       ...       ...  ...       ...       ...       ...   \n",
      "279863 -0.882850  0.697211 -2.064945  ...  1.252967  0.778584 -0.319189   \n",
      "280143 -1.413170  0.248525 -1.127396  ...  0.226138  0.370612  0.028234   \n",
      "280149 -2.234739  1.210158 -0.652250  ...  0.247968  0.751826  0.834108   \n",
      "281144 -2.208002  1.058733 -1.632333  ...  0.306271  0.583276 -0.269209   \n",
      "281674  0.223050 -0.068384  0.577829  ... -0.017652 -0.164350 -0.295135   \n",
      "\n",
      "             V23       V24       V25       V26       V27       V28  Amount  \n",
      "258866  0.181467  0.349023 -0.060442 -0.355585 -0.024522 -0.059444   55.19  \n",
      "9224   -0.141740  0.513162  0.324915 -0.121270  0.000389  0.023553   89.95  \n",
      "231956 -0.180111 -0.585031 -0.312352 -0.123843  0.084584  0.154410   49.73  \n",
      "48527   0.227801  0.025807  0.085243  0.206280 -0.361070 -0.334015   29.45  \n",
      "232622  0.205490  0.687597  0.022244 -0.877915  0.024816 -0.034525   71.00  \n",
      "...          ...       ...       ...       ...       ...       ...     ...  \n",
      "279863  0.639419 -0.294885  0.537503  0.788395  0.292680  0.147968  390.00  \n",
      "280143 -0.145640 -0.081049  0.521875  0.739467  0.389152  0.186637    0.76  \n",
      "280149  0.190944  0.032070 -0.739695  0.471111  0.385107  0.194361   77.89  \n",
      "281144 -0.456108 -0.183659 -0.328168  0.606116  0.884876 -0.253700  245.00  \n",
      "281674 -0.072173 -0.450261  0.313267 -0.289617  0.002988 -0.015309   42.53  \n",
      "\n",
      "[984 rows x 30 columns]\n"
     ]
    }
   ],
   "source": [
    "\n",
    "print(X)"
   ]
  },
  {
   "cell_type": "code",
   "execution_count": 21,
   "id": "db403f06",
   "metadata": {},
   "outputs": [
    {
     "name": "stdout",
     "output_type": "stream",
     "text": [
      "258866    0\n",
      "9224      0\n",
      "231956    0\n",
      "48527     0\n",
      "232622    0\n",
      "         ..\n",
      "279863    1\n",
      "280143    1\n",
      "280149    1\n",
      "281144    1\n",
      "281674    1\n",
      "Name: Class, Length: 984, dtype: int64\n"
     ]
    }
   ],
   "source": [
    "print(Y)"
   ]
  },
  {
   "cell_type": "markdown",
   "id": "a47254cb",
   "metadata": {},
   "source": [
    "## HoldOut Validation Approach- Train And Test Split"
   ]
  },
  {
   "cell_type": "markdown",
   "id": "9465d9b3",
   "metadata": {},
   "source": [
    "# Model Training"
   ]
  },
  {
   "cell_type": "markdown",
   "id": "f1cc858a",
   "metadata": {},
   "source": [
    "#### _Split the data into Training data & Testing Data with 70-30 division_"
   ]
  },
  {
   "cell_type": "code",
   "execution_count": 22,
   "id": "444fc625",
   "metadata": {},
   "outputs": [],
   "source": [
    "from sklearn.model_selection import train_test_split\n",
    "X_train, X_test, Y_train, Y_test = train_test_split(X, Y, test_size = 0.20, random_state=2)\n"
   ]
  },
  {
   "cell_type": "code",
   "execution_count": 23,
   "id": "85004c70",
   "metadata": {},
   "outputs": [
    {
     "name": "stdout",
     "output_type": "stream",
     "text": [
      "(984, 30) (787, 30) (197, 30)\n"
     ]
    }
   ],
   "source": [
    "print(X.shape, X_train.shape, X_test.shape)"
   ]
  },
  {
   "cell_type": "code",
   "execution_count": 24,
   "id": "5ee32f9f",
   "metadata": {},
   "outputs": [
    {
     "name": "stdout",
     "output_type": "stream",
     "text": [
      "(787, 30)\n"
     ]
    }
   ],
   "source": [
    "print(X_train.shape)"
   ]
  },
  {
   "cell_type": "markdown",
   "id": "ae60c400",
   "metadata": {},
   "source": [
    "# Model Evaluation"
   ]
  },
  {
   "cell_type": "code",
   "execution_count": 25,
   "id": "cfb0da0c",
   "metadata": {},
   "outputs": [],
   "source": [
    "# Feature Scaling\n",
    "scaler = StandardScaler()\n",
    "X_train = scaler.fit_transform(X_train)\n",
    "X_test = scaler.transform(X_test)"
   ]
  },
  {
   "cell_type": "markdown",
   "id": "62ff8d1c",
   "metadata": {},
   "source": [
    "#### _ Logistic Regression classifier_"
   ]
  },
  {
   "cell_type": "code",
   "execution_count": 26,
   "id": "7d3bb7ce",
   "metadata": {},
   "outputs": [
    {
     "data": {
      "text/plain": [
       "LogisticRegression()"
      ]
     },
     "execution_count": 26,
     "metadata": {},
     "output_type": "execute_result"
    }
   ],
   "source": [
    "\n",
    "# Train a Logistic Regression classifier\n",
    "clf = LogisticRegression()\n",
    "clf.fit(X_train, Y_train)"
   ]
  },
  {
   "cell_type": "code",
   "execution_count": 27,
   "id": "afc04515",
   "metadata": {},
   "outputs": [],
   "source": [
    "\n",
    "# Make predictions\n",
    "y_pred = clf.predict(X_test)"
   ]
  },
  {
   "cell_type": "code",
   "execution_count": 28,
   "id": "7b092b70",
   "metadata": {},
   "outputs": [],
   "source": [
    "# Evaluate the model\n",
    "accuracy = accuracy_score(Y_test, y_pred)\n",
    "conf_matrix = confusion_matrix(Y_test, y_pred)\n",
    "class_report = classification_report(Y_test, y_pred)"
   ]
  },
  {
   "cell_type": "markdown",
   "id": "76bb39f0",
   "metadata": {},
   "source": [
    "#### _Accuracy Score_"
   ]
  },
  {
   "cell_type": "code",
   "execution_count": 29,
   "id": "30b16731",
   "metadata": {},
   "outputs": [
    {
     "name": "stdout",
     "output_type": "stream",
     "text": [
      "Accuracy: 0.9441624365482234\n",
      "Confusion Matrix:\n",
      " [[92  3]\n",
      " [ 8 94]]\n",
      "Classification Report:\n",
      "               precision    recall  f1-score   support\n",
      "\n",
      "           0       0.92      0.97      0.94        95\n",
      "           1       0.97      0.92      0.94       102\n",
      "\n",
      "    accuracy                           0.94       197\n",
      "   macro avg       0.94      0.94      0.94       197\n",
      "weighted avg       0.95      0.94      0.94       197\n",
      "\n"
     ]
    }
   ],
   "source": [
    "\n",
    "print(\"Accuracy:\", accuracy)\n",
    "print(\"Confusion Matrix:\\n\", conf_matrix)\n",
    "print(\"Classification Report:\\n\", class_report)"
   ]
  },
  {
   "cell_type": "code",
   "execution_count": 30,
   "id": "ed736d79",
   "metadata": {},
   "outputs": [],
   "source": [
    "#### _Random forest classifier_"
   ]
  },
  {
   "cell_type": "code",
   "execution_count": 31,
   "id": "20d22f3e",
   "metadata": {},
   "outputs": [
    {
     "data": {
      "text/plain": [
       "RandomForestClassifier(random_state=42)"
      ]
     },
     "execution_count": 31,
     "metadata": {},
     "output_type": "execute_result"
    }
   ],
   "source": [
    "# Random Forest Classifier\n",
    "rf_classifier = RandomForestClassifier(n_estimators=100, random_state=42)\n",
    "rf_classifier.fit(X_train, Y_train)"
   ]
  },
  {
   "cell_type": "code",
   "execution_count": 32,
   "id": "0e593263",
   "metadata": {},
   "outputs": [],
   "source": [
    "# Make predictions with Random Forest\n",
    "y_pred_rf = rf_classifier.predict(X_test)"
   ]
  },
  {
   "cell_type": "code",
   "execution_count": 33,
   "id": "4b999fa3",
   "metadata": {},
   "outputs": [],
   "source": [
    "# Evaluate Random Forest model\n",
    "accuracy_rf = accuracy_score(Y_test, y_pred_rf)\n",
    "conf_matrix_rf = confusion_matrix(Y_test, y_pred_rf)\n",
    "class_report_rf = classification_report(Y_test, y_pred_rf)"
   ]
  },
  {
   "cell_type": "code",
   "execution_count": 34,
   "id": "c9ee0e37",
   "metadata": {},
   "outputs": [
    {
     "name": "stdout",
     "output_type": "stream",
     "text": [
      "Random Forest Classifier Accuracy: 0.9390862944162437\n",
      "Random Forest Classifier Confusion Matrix:\n",
      " [[92  3]\n",
      " [ 9 93]]\n",
      "Random Forest Classifier Classification Report:\n",
      "               precision    recall  f1-score   support\n",
      "\n",
      "           0       0.91      0.97      0.94        95\n",
      "           1       0.97      0.91      0.94       102\n",
      "\n",
      "    accuracy                           0.94       197\n",
      "   macro avg       0.94      0.94      0.94       197\n",
      "weighted avg       0.94      0.94      0.94       197\n",
      "\n"
     ]
    }
   ],
   "source": [
    "# Display accuracy and evaluation results\n",
    "print(\"Random Forest Classifier Accuracy:\", accuracy_rf)\n",
    "print(\"Random Forest Classifier Confusion Matrix:\\n\", conf_matrix_rf)\n",
    "print(\"Random Forest Classifier Classification Report:\\n\", class_report_rf)"
   ]
  },
  {
   "cell_type": "code",
   "execution_count": 35,
   "id": "df016010",
   "metadata": {},
   "outputs": [
    {
     "data": {
      "text/plain": [
       "GradientBoostingClassifier(random_state=42)"
      ]
     },
     "execution_count": 35,
     "metadata": {},
     "output_type": "execute_result"
    }
   ],
   "source": [
    "\n",
    "# Gradient Boosting Classifier\n",
    "gb_classifier = GradientBoostingClassifier(n_estimators=100, random_state=42)\n",
    "gb_classifier.fit(X_train, Y_train)\n"
   ]
  },
  {
   "cell_type": "code",
   "execution_count": 36,
   "id": "e940d006",
   "metadata": {},
   "outputs": [],
   "source": [
    "# Make predictions with Gradient Boosting\n",
    "y_pred_gb = gb_classifier.predict(X_test)"
   ]
  },
  {
   "cell_type": "code",
   "execution_count": 37,
   "id": "e9848e40",
   "metadata": {},
   "outputs": [],
   "source": [
    "# Evaluate Gradient Boosting model\n",
    "accuracy_gb = accuracy_score(Y_test, y_pred_gb)\n",
    "conf_matrix_gb = confusion_matrix(Y_test, y_pred_gb)\n",
    "class_report_gb = classification_report(Y_test, y_pred_gb)"
   ]
  },
  {
   "cell_type": "code",
   "execution_count": 38,
   "id": "94e4599f",
   "metadata": {},
   "outputs": [
    {
     "name": "stdout",
     "output_type": "stream",
     "text": [
      "\n",
      "Gradient Boosting Classifier Accuracy: 0.9543147208121827\n",
      "Gradient Boosting Classifier Confusion Matrix:\n",
      " [[93  2]\n",
      " [ 7 95]]\n",
      "Gradient Boosting Classifier Classification Report:\n",
      "               precision    recall  f1-score   support\n",
      "\n",
      "           0       0.93      0.98      0.95        95\n",
      "           1       0.98      0.93      0.95       102\n",
      "\n",
      "    accuracy                           0.95       197\n",
      "   macro avg       0.95      0.96      0.95       197\n",
      "weighted avg       0.96      0.95      0.95       197\n",
      "\n"
     ]
    }
   ],
   "source": [
    "print(\"\\nGradient Boosting Classifier Accuracy:\", accuracy_gb)\n",
    "print(\"Gradient Boosting Classifier Confusion Matrix:\\n\", conf_matrix_gb)\n",
    "print(\"Gradient Boosting Classifier Classification Report:\\n\", class_report_gb)"
   ]
  },
  {
   "cell_type": "markdown",
   "id": "8055eb41",
   "metadata": {},
   "source": [
    "In conclusion, credit card fraud detection is crucial for financial institutions and consumers alike. While this report presents a basic implementation, further refinement and exploration of advanced techniques are essential for building robust and effective fraud detection systems."
   ]
  },
  {
   "cell_type": "code",
   "execution_count": null,
   "id": "65a1127d",
   "metadata": {},
   "outputs": [],
   "source": []
  }
 ],
 "metadata": {
  "kernelspec": {
   "display_name": "Python 3 (ipykernel)",
   "language": "python",
   "name": "python3"
  },
  "language_info": {
   "codemirror_mode": {
    "name": "ipython",
    "version": 3
   },
   "file_extension": ".py",
   "mimetype": "text/x-python",
   "name": "python",
   "nbconvert_exporter": "python",
   "pygments_lexer": "ipython3",
   "version": "3.9.13"
  }
 },
 "nbformat": 4,
 "nbformat_minor": 5
}
